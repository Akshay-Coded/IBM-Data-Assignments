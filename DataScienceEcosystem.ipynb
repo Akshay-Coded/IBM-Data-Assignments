{
 "cells": [
  {
   "cell_type": "markdown",
   "id": "8561c1e9-ca31-41ce-91a1-ae88efff3c90",
   "metadata": {},
   "source": [
    "# Data Science Tools and Ecosystem"
   ]
  },
  {
   "cell_type": "markdown",
   "id": "05f3d5eb-cf95-4ebe-bc0f-a26c61799975",
   "metadata": {},
   "source": [
    "In this notebook, Data Science Tools and Ecosystem are summarized."
   ]
  },
  {
   "cell_type": "markdown",
   "id": "f827d8a3-d7b2-4a09-9384-b65829cc0214",
   "metadata": {},
   "source": [
    "##### Some of the popular languages that Data Scientists use are:\n",
    "1. Python\n",
    "2. R\n",
    "3. Scala"
   ]
  },
  {
   "cell_type": "markdown",
   "id": "94e6e0a6-159d-406c-8ae6-58ba42720520",
   "metadata": {},
   "source": [
    "##### Some of the commonly used libraries used by Data Scientists include:\n",
    "1. ggplot\n",
    "2. dplyr\n",
    "3. matplotlib"
   ]
  },
  {
   "cell_type": "markdown",
   "id": "a61c9d17-5ac4-4035-93c3-edf62ef09c1b",
   "metadata": {},
   "source": [
    "| Data Science Tools |\n",
    "|-------------------|\n",
    "| Jupyter Notebook  |\n",
    "| RStudio           |\n",
    "| VS Code           |"
   ]
  },
  {
   "cell_type": "markdown",
   "id": "9fe75294-6f4c-4cf2-af82-0f21306375e6",
   "metadata": {},
   "source": [
    "### Below are a few examples of evaluating arithmetic expressions in Python.\n"
   ]
  },
  {
   "cell_type": "code",
   "execution_count": 2,
   "id": "369e7866-7de4-4f6b-b507-4178a223beb5",
   "metadata": {},
   "outputs": [
    {
     "data": {
      "text/plain": [
       "17"
      ]
     },
     "execution_count": 2,
     "metadata": {},
     "output_type": "execute_result"
    }
   ],
   "source": [
    "# This a simple arithmetic expression to mutiply then add integers\n",
    "(3*4)+5"
   ]
  },
  {
   "cell_type": "code",
   "execution_count": 3,
   "id": "f8db8f16-6243-4edc-b3d1-53ff8dbe3959",
   "metadata": {},
   "outputs": [
    {
     "name": "stdout",
     "output_type": "stream",
     "text": [
      "3.3333333333333335\n"
     ]
    }
   ],
   "source": [
    "min = 200\n",
    "hrs = min / 60\n",
    "print(hrs)"
   ]
  },
  {
   "cell_type": "markdown",
   "id": "7109029b-38fd-43bc-a300-5c57c34224c6",
   "metadata": {},
   "source": [
    "##### Objectives:\n",
    "- Python\n",
    "- R language\n",
    "- Git and Github\n",
    "- Jupyter notebook"
   ]
  },
  {
   "cell_type": "markdown",
   "id": "091719de-4a96-45fb-83e2-8b4372c2cddf",
   "metadata": {},
   "source": [
    "## Author\n",
    "Akshay R"
   ]
  },
  {
   "cell_type": "code",
   "execution_count": null,
   "id": "a81cbadb-d070-4f40-8923-e7b908752083",
   "metadata": {},
   "outputs": [],
   "source": []
  }
 ],
 "metadata": {
  "kernelspec": {
   "display_name": "Python 3 (ipykernel)",
   "language": "python",
   "name": "python3"
  },
  "language_info": {
   "codemirror_mode": {
    "name": "ipython",
    "version": 3
   },
   "file_extension": ".py",
   "mimetype": "text/x-python",
   "name": "python",
   "nbconvert_exporter": "python",
   "pygments_lexer": "ipython3",
   "version": "3.11.7"
  }
 },
 "nbformat": 4,
 "nbformat_minor": 5
}
